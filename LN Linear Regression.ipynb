{
 "cells": [
  {
   "cell_type": "markdown",
   "metadata": {},
   "source": [
    "# Linear Regression\n",
    "\n",
    "By Jen Selby and Carl Shan\n",
    "\n",
    "This Jupyter Notebook will introduce to you to how to make a Linear Regression model using the Sci-kit Learn (aka `sklearn`) Python library.\n",
    "\n",
    "You can see basic example here:\n",
    "> http://scikit-learn.org/stable/modules/linear_model.html#ordinary-least-squares\n",
    "\n",
    "and full documentation of the sklearn linear_model module here:\n",
    "> http://scikit-learn.org/stable/modules/generated/sklearn.linear_model.LinearRegression.html\n",
    "\n",
    "# Instructions\n",
    "\n",
    "0. Make sure you've read and learned a bit about the Linear Regression model. [Click here for course notes.](https://jennselby.github.io/MachineLearningCourseNotes/#linear-regression)\n",
    "1. Read through the instructions and code behind the following sections:\n",
    "\n",
    "    * [Setup](#Setup)\n",
    "    * [Fake Data Generation](#Fake-Data-Generation)\n",
    "    * [Training](#Training)\n",
    "    * [Results and Visualization](#Results-and-Visualization)\n",
    "2. Then, pick and complete at least one of the set of exercises (Standard or Advanced) and write code that answers each set of questions.\n",
    "    * [Option 1 - Standard Difficulty](#Exercise-Option-#1---Standard-Difficulty)\n",
    "    * [Option 2 - Standard Difficulty](#Exercise-Option-#2---Standard-Difficulty)\n",
    "    * [Option 3 - Advanced Difficulty](#Exercise-Option-#3---Advanced-Difficulty)\n",
    "    * [Option 4 - Advanced Difficulty](#Exercise-Option-#4---Advanced-Difficulty)"
   ]
  },
  {
   "cell_type": "markdown",
   "metadata": {},
   "source": [
    "## Setup\n",
    "\n",
    "First, make sure you have installed all of the necessary Python libraries, following [the instructions here](https://jennselby.github.io/MachineLearningCourseNotes/#setting-up-python3).\n",
    "\n",
    "You should have `sklearn`, `numpy`, `matplotlib` and `pandas` installed.\n",
    "\n",
    "If you haven't installed them, use `pip install <library here>` to install them in your Terminal.\n",
    "\n",
    "Next, we want to make sure we can display our graphs in this notebook and import all of the libraries we'll need into the notebook."
   ]
  },
  {
   "cell_type": "code",
   "execution_count": 384,
   "metadata": {},
   "outputs": [],
   "source": [
    "# We're going to be doing some plotting, and we want to be able to see these plots.\n",
    "# To display graphs in this notebook, run this cell.\n",
    "%matplotlib inline"
   ]
  },
  {
   "cell_type": "code",
   "execution_count": 385,
   "metadata": {},
   "outputs": [],
   "source": [
    "# We're now going to import some important libraries\n",
    "\n",
    "import numpy.random # for generating a noisy data set\n",
    "from sklearn import linear_model # for training a linear model\n",
    "\n",
    "import matplotlib.pyplot # for plotting in general\n",
    "from mpl_toolkits.mplot3d import Axes3D # for 3D plotting\n",
    "\n",
    "import pandas as pd"
   ]
  },
  {
   "cell_type": "markdown",
   "metadata": {},
   "source": [
    "## Fake Data Generation\n",
    "\n",
    "We're going to generate some fake data to test out our ideas about linear regression. These constant variables decide some of the characteristics of our data: the `x` range (which will also be used to set the size of the graph later) and how many inputs we should generate."
   ]
  },
  {
   "cell_type": "code",
   "execution_count": 386,
   "metadata": {},
   "outputs": [],
   "source": [
    "# Setting the limits and number of our first, X, variable\n",
    "\n",
    "MIN_X = -10\n",
    "MAX_X = 10\n",
    "NUM_INPUTS = 50"
   ]
  },
  {
   "cell_type": "markdown",
   "metadata": {},
   "source": [
    "### Fake Dataset 1 - Single x Variable\n",
    "\n",
    "Our first dataset has just one input feature. We are going to pick out 50 random real numbers between our min and max. Then, we will generate one output for each of these inputs following the function $y = 0.3x + 1$."
   ]
  },
  {
   "cell_type": "code",
   "execution_count": 387,
   "metadata": {},
   "outputs": [
    {
     "name": "stdout",
     "output_type": "stream",
     "text": [
      "[[-7.69380878]\n",
      " [ 7.31395277]\n",
      " [-7.48570146]\n",
      " [-6.97990255]\n",
      " [ 0.80830724]\n",
      " [ 8.88473515]\n",
      " [ 6.08350688]\n",
      " [ 4.91665901]\n",
      " [-2.45432263]\n",
      " [ 1.71889264]\n",
      " [ 2.3954849 ]\n",
      " [-5.23244199]\n",
      " [ 5.57652641]\n",
      " [ 1.00446098]\n",
      " [-7.53390061]\n",
      " [-6.91543309]\n",
      " [-6.29856561]\n",
      " [-4.30617532]\n",
      " [-0.28968533]\n",
      " [-8.35755807]\n",
      " [ 4.21486645]\n",
      " [ 0.08118207]\n",
      " [ 8.49212514]\n",
      " [-0.69504064]\n",
      " [ 6.7321295 ]\n",
      " [-9.44597338]\n",
      " [ 4.76431683]\n",
      " [-9.77490841]\n",
      " [ 4.78250837]\n",
      " [-2.84048787]\n",
      " [-1.04135953]\n",
      " [ 0.88670141]\n",
      " [-5.50333195]\n",
      " [-3.98336299]\n",
      " [ 7.65428463]\n",
      " [ 8.84640619]\n",
      " [-7.28001374]\n",
      " [-1.23472427]\n",
      " [ 0.24439332]\n",
      " [ 2.01200155]\n",
      " [-6.8386999 ]\n",
      " [ 2.58045486]\n",
      " [ 5.47173445]\n",
      " [-9.09656976]\n",
      " [-7.2446856 ]\n",
      " [-3.56141759]\n",
      " [ 4.51629056]\n",
      " [-6.57871155]\n",
      " [-7.3072091 ]\n",
      " [-8.8600206 ]]\n"
     ]
    }
   ],
   "source": [
    "# randomly pick numbers for x\n",
    "x_one_x = numpy.random.uniform(low=MIN_X, high=MAX_X, size=(NUM_INPUTS, 1))\n",
    "\n",
    "print(x_one_x)"
   ]
  },
  {
   "cell_type": "markdown",
   "metadata": {},
   "source": [
    "Let's store this data into a `pandas` `DataFrame` object and name the column `'x'`."
   ]
  },
  {
   "cell_type": "code",
   "execution_count": 388,
   "metadata": {},
   "outputs": [
    {
     "data": {
      "text/html": [
       "<div>\n",
       "<style scoped>\n",
       "    .dataframe tbody tr th:only-of-type {\n",
       "        vertical-align: middle;\n",
       "    }\n",
       "\n",
       "    .dataframe tbody tr th {\n",
       "        vertical-align: top;\n",
       "    }\n",
       "\n",
       "    .dataframe thead th {\n",
       "        text-align: right;\n",
       "    }\n",
       "</style>\n",
       "<table border=\"1\" class=\"dataframe\">\n",
       "  <thead>\n",
       "    <tr style=\"text-align: right;\">\n",
       "      <th></th>\n",
       "      <th>x</th>\n",
       "    </tr>\n",
       "  </thead>\n",
       "  <tbody>\n",
       "    <tr>\n",
       "      <th>0</th>\n",
       "      <td>-7.693809</td>\n",
       "    </tr>\n",
       "    <tr>\n",
       "      <th>1</th>\n",
       "      <td>7.313953</td>\n",
       "    </tr>\n",
       "    <tr>\n",
       "      <th>2</th>\n",
       "      <td>-7.485701</td>\n",
       "    </tr>\n",
       "    <tr>\n",
       "      <th>3</th>\n",
       "      <td>-6.979903</td>\n",
       "    </tr>\n",
       "    <tr>\n",
       "      <th>4</th>\n",
       "      <td>0.808307</td>\n",
       "    </tr>\n",
       "  </tbody>\n",
       "</table>\n",
       "</div>"
      ],
      "text/plain": [
       "          x\n",
       "0 -7.693809\n",
       "1  7.313953\n",
       "2 -7.485701\n",
       "3 -6.979903\n",
       "4  0.808307"
      ]
     },
     "execution_count": 388,
     "metadata": {},
     "output_type": "execute_result"
    }
   ],
   "source": [
    "data_one_x = pd.DataFrame(data=x_one_x, columns=['x'])\n",
    "data_one_x.head()"
   ]
  },
  {
   "cell_type": "markdown",
   "metadata": {},
   "source": [
    "Cool. Now we have some fake `x` data.\n",
    "\n",
    "Let's make the fake `y` data now.\n",
    "\n",
    "Let's try to make data that follows the equation: $y = 0.3x + 1$."
   ]
  },
  {
   "cell_type": "code",
   "execution_count": 389,
   "metadata": {},
   "outputs": [],
   "source": [
    "m=0.3\n",
    "b=1\n",
    "\n",
    "# Random values\n",
    "#m = numpy.random.uniform(-1,1)\n",
    "#b = numpy.random.uniform(-2,2)\n",
    "\n",
    "data_one_x['y'] = m * data_one_x['x'] + b"
   ]
  },
  {
   "cell_type": "code",
   "execution_count": 390,
   "metadata": {},
   "outputs": [
    {
     "data": {
      "text/plain": [
       "<AxesSubplot:xlabel='x', ylabel='y'>"
      ]
     },
     "execution_count": 390,
     "metadata": {},
     "output_type": "execute_result"
    },
    {
     "data": {
      "image/png": "[encoded data removed]",
      "text/plain": [
       "<Figure size 432x288 with 1 Axes>"
      ]
     },
     "metadata": {
      "needs_background": "light"
     },
     "output_type": "display_data"
    }
   ],
   "source": [
    "data_one_x.plot.scatter(x='x', y='y', )"
   ]
  },
  {
   "cell_type": "markdown",
   "metadata": {},
   "source": [
    "Okay. That looks *too* perfect.\n",
    "\n",
    "Most data in the real world look less linear than that.\n",
    "\n",
    "So let's add a little bit of noise. Noise are random pertubations to your data that happens naturally in the real world. We will simulate some noise.\n",
    "\n",
    "Otherwise our linear model will be too easy.\n",
    "\n",
    "**Note:** We can generate some noise by picking numbers in a [normal distribution (also called bell curve)](http://www.statisticshowto.com/probability-and-statistics/normal-distributions/) around zero."
   ]
  },
  {
   "cell_type": "code",
   "execution_count": 391,
   "metadata": {},
   "outputs": [],
   "source": [
    "# First, let's create some noise to make our data a little bit more spread out.\n",
    "\n",
    "# generate some normally distributed noise\n",
    "noise_one_x = numpy.random.normal(size=NUM_INPUTS)"
   ]
  },
  {
   "cell_type": "code",
   "execution_count": 392,
   "metadata": {},
   "outputs": [],
   "source": [
    "# Now let's create the 'y' variable\n",
    "# It turns out you can make a new column in pandas just by doing the below.\n",
    "# It's so simple!\n",
    "data_one_x['y'] = data_one_x['y'] + noise_one_x"
   ]
  },
  {
   "cell_type": "code",
   "execution_count": 393,
   "metadata": {},
   "outputs": [
    {
     "data": {
      "text/plain": [
       "<AxesSubplot:xlabel='x', ylabel='y'>"
      ]
     },
     "execution_count": 393,
     "metadata": {},
     "output_type": "execute_result"
    },
    {
     "data": {
      "image/png": "[encoded data removed]",
      "text/plain": [
       "<Figure size 432x288 with 1 Axes>"
      ]
     },
     "metadata": {
      "needs_background": "light"
     },
     "output_type": "display_data"
    }
   ],
   "source": [
    "data_one_x.plot.scatter(x='x', y='y')"
   ]
  },
  {
   "cell_type": "markdown",
   "metadata": {},
   "source": [
    "Great!\n",
    "\n",
    "This looks more like real data now."
   ]
  },
  {
   "cell_type": "markdown",
   "metadata": {},
   "source": [
    "## Training\n",
    "\n",
    "Now that we have our data, we can train our model to find the best fit line. We will use the linear model module from the scikit-learn library to do this.\n",
    "\n",
    "Note: you may get a warning about LAPACK. According to [this discussion on the scikit-learn github page](https://github.com/scipy/scipy/issues/5998), this is safe to ignore."
   ]
  },
  {
   "cell_type": "code",
   "execution_count": 394,
   "metadata": {},
   "outputs": [],
   "source": [
    "# This creates an \"empty\" linear model\n",
    "\n",
    "model_one_x = linear_model.LinearRegression()\n"
   ]
  },
  {
   "cell_type": "markdown",
   "metadata": {},
   "source": [
    "First, we need to reshape our data.\n",
    "\n",
    "Currently, our data looks like the following:\n",
    "\n",
    "```python\n",
    "# data_one_x['x'] looks like\n",
    "[-3.44342026,  9.60082542,  4.99683803,  7.11339915,  9.69287893, ...]\n",
    "\n",
    "```\n",
    "\n",
    "In other words, it's just a list.\n",
    "\n",
    "However, this isn't sufficient.\n",
    "\n",
    "That's because later on, we will use a command called `.fit()` and this command expects our data to look like a list of lists.\n",
    "\n",
    "For example:\n",
    "\n",
    "```python\n",
    "[[-3.44342026],\n",
    "[ 9.60082542],\n",
    "[ 4.99683803],\n",
    "[ 7.11339915],\n",
    "[ 9.69287893],\n",
    "[-5.1383316 ],\n",
    "[ 8.96638209],\n",
    "...\n",
    "[-9.12492363]]\n",
    "```\n",
    "\n",
    "We will use a the command `.reshape()`."
   ]
  },
  {
   "cell_type": "code",
   "execution_count": 395,
   "metadata": {},
   "outputs": [],
   "source": [
    "# Run this code\n",
    "x_one_x = data_one_x['x'].values.reshape(-1, 1)\n",
    "y_one_x = data_one_x['y'].values.reshape(-1, 1)"
   ]
  },
  {
   "cell_type": "markdown",
   "metadata": {},
   "source": [
    "There we go. Now we can \"fit\" the data.\n",
    "\n",
    "\"Fitting\" the data means to give the \"empty model\" real data and ask it to find the \"best parameters\" that \"best fits\" the data.\n",
    "\n",
    "Using the amazing `sklearn` library, it's as easy as running the `.fit()` command.\n",
    "\n",
    "Note: you may get a warning about LAPACK. According to [this discussion on the scikit-learn github page](https://github.com/scipy/scipy/issues/5998), this is safe to ignore."
   ]
  },
  {
   "cell_type": "code",
   "execution_count": 396,
   "metadata": {
    "scrolled": true
   },
   "outputs": [
    {
     "data": {
      "text/plain": [
       "LinearRegression()"
      ]
     },
     "execution_count": 396,
     "metadata": {},
     "output_type": "execute_result"
    }
   ],
   "source": [
    "# Run this code\n",
    "model_one_x.fit(X=x_one_x, y=y_one_x)"
   ]
  },
  {
   "cell_type": "markdown",
   "metadata": {},
   "source": [
    "## Results and Visualization\n",
    "\n",
    "Now, let's see what our model learned. We can look at the results numerically:"
   ]
  },
  {
   "cell_type": "code",
   "execution_count": 397,
   "metadata": {},
   "outputs": [],
   "source": [
    "def print_model_fit(model):\n",
    "    # Print out the parameters for the best fit line\n",
    "    print('Intercept: {i}  Coefficients: {c}'.format(i=model.intercept_, c=model.coef_))"
   ]
  },
  {
   "cell_type": "code",
   "execution_count": 398,
   "metadata": {},
   "outputs": [
    {
     "name": "stdout",
     "output_type": "stream",
     "text": [
      "Intercept: [0.92463854]  Coefficients: [[0.3075571]]\n"
     ]
    }
   ],
   "source": [
    "print_model_fit(model_one_x)"
   ]
  },
  {
   "cell_type": "code",
   "execution_count": 399,
   "metadata": {},
   "outputs": [
    {
     "name": "stdout",
     "output_type": "stream",
     "text": [
      "[[0.54634331]\n",
      " [1.12762623]\n",
      " [1.5336016 ]]\n"
     ]
    }
   ],
   "source": [
    "## How would this model make predictions?\n",
    "\n",
    "# Let's make some new data that have the following values and see how to predict their corresponding 'y' values.\n",
    "\n",
    "# Print out the model's guesses for some values of x\n",
    "new_x_values = [ [-1.23], [0.66], [1.98] ]\n",
    "\n",
    "predictions = model_one_x.predict(new_x_values)\n",
    "\n",
    "print(predictions)"
   ]
  },
  {
   "cell_type": "code",
   "execution_count": 400,
   "metadata": {},
   "outputs": [
    {
     "name": "stdout",
     "output_type": "stream",
     "text": [
      "Model prediction for -1.23: [0.54634331]\n",
      "Model prediction for 0.66: [1.12762623]\n",
      "Model prediction for 1.98: [1.5336016]\n"
     ]
    }
   ],
   "source": [
    "# Let's print them a little bit nicer\n",
    "for datapoint, prediction in zip(new_x_values, predictions):\n",
    "    print('Model prediction for {}: {}'.format(datapoint[0], prediction))"
   ]
  },
  {
   "cell_type": "markdown",
   "metadata": {},
   "source": [
    "We can also look at them graphically."
   ]
  },
  {
   "cell_type": "code",
   "execution_count": 401,
   "metadata": {},
   "outputs": [],
   "source": [
    "def plot_best_fit_line(model, x, y, function, labels):\n",
    "    # create the figure\n",
    "    fig = matplotlib.pyplot.figure(1)\n",
    "    fig.suptitle('Data and Best-Fit Line')\n",
    "    matplotlib.pyplot.xlabel('x values')\n",
    "    matplotlib.pyplot.ylabel('y values')\n",
    "\n",
    "    # put the generated dataset points on the graph\n",
    "    matplotlib.pyplot.scatter(x, y)\n",
    "    \n",
    "    # Now we actually want to plot the best-fit line.\n",
    "    # To simulate that, we'll simply generate all the\n",
    "    # inputs on the graph and plot that.\n",
    "    # predict for inputs along the graph to find the best-fit line\n",
    "    X = numpy.linspace(MIN_X, MAX_X) # generates all the possible values of x\n",
    "    Y1 = model.predict(list(zip(X)))\n",
    "    matplotlib.pyplot.plot(X, Y1, label=labels[0])\n",
    "    \n",
    "    if function:\n",
    "        matplotlib.pyplot.plot(X, function(X), label=labels[1])\n",
    "        \n",
    "    matplotlib.pyplot.legend()"
   ]
  },
  {
   "cell_type": "code",
   "execution_count": 402,
   "metadata": {
    "scrolled": true
   },
   "outputs": [
    {
     "data": {
      "image/png": "[encoded data removed]",
      "text/plain": [
       "<Figure size 432x288 with 1 Axes>"
      ]
     },
     "metadata": {
      "needs_background": "light"
     },
     "output_type": "display_data"
    }
   ],
   "source": [
    "plot_best_fit_line(model_one_x, x_one_x, y_one_x, lambda x:m*x+b, [\"Linear Regression\", \"True Function\"])"
   ]
  },
  {
   "cell_type": "code",
   "execution_count": 403,
   "metadata": {},
   "outputs": [
    {
     "data": {
      "text/plain": [
       "array([48.08566377])"
      ]
     },
     "execution_count": 403,
     "metadata": {},
     "output_type": "execute_result"
    }
   ],
   "source": [
    "def L2_metric_one(model, data):\n",
    "    predictions = [model.predict([[i]])[0] for i in data['x']]\n",
    "    sq_diff = [(data['y'][i]-predictions[i])**2 for i in range(NUM_INPUTS)]\n",
    "    return(sum(sq_diff))\n",
    "\n",
    "L2_metric_one(model_one_x, data_one_x)"
   ]
  },
  {
   "cell_type": "markdown",
   "metadata": {},
   "source": [
    "# Exercise Option #1 - Standard Difficulty\n",
    "\n",
    "Answer the following questions about dataset 1:\n",
    "1. Take a look at the output of the `print_model_fit()` function in the \"Results and Visualization\" section above. What numbers did you expect to see printed if the linear regression code was working, and why?\n",
    "1. What numbers did you expect the model to predict when we gave it our new x values, -1.23, 0.66, and 1.98, and why?\n",
    "1. What did you expect to see on the graph if the linear regression code was working, and why?\n",
    "1. Pick some lines of code that you could change to continue testing that the linear regression worked properly. What lines did you choose and how did you change them? How did the output change, and why does that tell you that the code is working correctly?"
   ]
  },
  {
   "cell_type": "markdown",
   "metadata": {},
   "source": [
    "1. You would expect the outputs of `print_model_fit()` to be approximately `Intercept: [1]  Coefficients: [[0.3]]`. This is because the underlying dataset was modeled exactly by the equation $y=0.3x+1$ and noise was added afterwards.\n",
    "2. You would expect approximately the outputs `[0.631, 1.198, 1.594]`, as these are the exact results from using $y=0.3x+1$. The actual results, at least from this run, were `[0.497, 1.089, 1.502]`, so we see that there is an appreciable error (the average percent error was around 12%, with the first point being the most off at around 20%).\n",
    "3. You would expect the graph to show a scatter plot of the data points with a line of best fit through said points; this line would ideally be close to the graph of $y=0.3x+1$.\n",
    "4. The three things I changed/added were:\n",
    "   1. I made it so the initial slope/intercept values are chosen randomly. By running the model multiple times with different values, one can check that it works for more cases.\n",
    "   2. I changed the plot to also include the graph of the original slope intercept values. This can be used to qualitatively check if the models prediction deviates significantly from the underlying truth.\n",
    "   3. I added a function to actually return the $L_2$ metric of the predicted and true $y$ values. This gives a more quantative measure of the accuracy of the model, though it is admittedly a bit useless without something to compare with."
   ]
  },
  {
   "cell_type": "markdown",
   "metadata": {},
   "source": [
    "### Fake Dataset 2 - Two x Values\n",
    "\n",
    "Let's look at a dataset has two inputs, like [the tree example in our notes](https://jennselby.github.io/MachineLearningCourseNotes/#linear-regression).\n",
    "\n",
    "**NOTE**: This will make it a littler harder to visualize, particularly because you cannot rotate the graph interactively in the Jupyter notebook. If you are interested in looking more closely at this graph, you can copy the code below in the next several cells into a file and run it through Python normally. This will open a graph window that will allow you to drag to rotate the graph."
   ]
  },
  {
   "cell_type": "code",
   "execution_count": 404,
   "metadata": {},
   "outputs": [],
   "source": [
    "# generate some normally distributed noise\n",
    "noise_two_x = numpy.random.normal(size=NUM_INPUTS)\n",
    "\n",
    "# randomly pick pairs of numbers for x\n",
    "x1_two_x = numpy.random.uniform(low=MIN_X, high=MAX_X, size=NUM_INPUTS)\n",
    "x2_two_x = numpy.random.uniform(low=MIN_X, high=MAX_X, size=NUM_INPUTS)\n",
    "\n",
    "\n",
    "# Random mode\n",
    "#[x1_coeff,x2_coeff,inter]= [numpy.random.uniform(-1,1),numpy.random.uniform(-1,1),numpy.random.uniform(-2,2)]\n",
    "\n",
    "[x1_coeff,x2_coeff,inter]= [0.5,-2.7,-2]\n",
    "\n",
    "y_two_x = x1_coeff * x1_two_x + x2_coeff* x2_two_x + inter + noise_two_x"
   ]
  },
  {
   "cell_type": "code",
   "execution_count": 405,
   "metadata": {},
   "outputs": [],
   "source": [
    "data_two_x = pd.DataFrame(data=x1_two_x, columns = ['x1'])"
   ]
  },
  {
   "cell_type": "code",
   "execution_count": 406,
   "metadata": {},
   "outputs": [],
   "source": [
    "data_two_x['x2'] = x2_two_x\n",
    "data_two_x['y'] = y_two_x"
   ]
  },
  {
   "cell_type": "code",
   "execution_count": 407,
   "metadata": {},
   "outputs": [
    {
     "data": {
      "text/html": [
       "<div>\n",
       "<style scoped>\n",
       "    .dataframe tbody tr th:only-of-type {\n",
       "        vertical-align: middle;\n",
       "    }\n",
       "\n",
       "    .dataframe tbody tr th {\n",
       "        vertical-align: top;\n",
       "    }\n",
       "\n",
       "    .dataframe thead th {\n",
       "        text-align: right;\n",
       "    }\n",
       "</style>\n",
       "<table border=\"1\" class=\"dataframe\">\n",
       "  <thead>\n",
       "    <tr style=\"text-align: right;\">\n",
       "      <th></th>\n",
       "      <th>x1</th>\n",
       "      <th>x2</th>\n",
       "      <th>y</th>\n",
       "    </tr>\n",
       "  </thead>\n",
       "  <tbody>\n",
       "    <tr>\n",
       "      <th>0</th>\n",
       "      <td>1.837903</td>\n",
       "      <td>-2.285054</td>\n",
       "      <td>4.909443</td>\n",
       "    </tr>\n",
       "    <tr>\n",
       "      <th>1</th>\n",
       "      <td>-0.123156</td>\n",
       "      <td>-8.440171</td>\n",
       "      <td>19.465536</td>\n",
       "    </tr>\n",
       "    <tr>\n",
       "      <th>2</th>\n",
       "      <td>0.804073</td>\n",
       "      <td>-6.745842</td>\n",
       "      <td>17.448843</td>\n",
       "    </tr>\n",
       "    <tr>\n",
       "      <th>3</th>\n",
       "      <td>-6.957621</td>\n",
       "      <td>-8.671175</td>\n",
       "      <td>17.023629</td>\n",
       "    </tr>\n",
       "    <tr>\n",
       "      <th>4</th>\n",
       "      <td>-2.507885</td>\n",
       "      <td>7.169496</td>\n",
       "      <td>-21.839371</td>\n",
       "    </tr>\n",
       "  </tbody>\n",
       "</table>\n",
       "</div>"
      ],
      "text/plain": [
       "         x1        x2          y\n",
       "0  1.837903 -2.285054   4.909443\n",
       "1 -0.123156 -8.440171  19.465536\n",
       "2  0.804073 -6.745842  17.448843\n",
       "3 -6.957621 -8.671175  17.023629\n",
       "4 -2.507885  7.169496 -21.839371"
      ]
     },
     "execution_count": 407,
     "metadata": {},
     "output_type": "execute_result"
    }
   ],
   "source": [
    "data_two_x.head()"
   ]
  },
  {
   "cell_type": "code",
   "execution_count": 408,
   "metadata": {},
   "outputs": [
    {
     "name": "stdout",
     "output_type": "stream",
     "text": [
      "Intercept: -2.1059022857993854  Coefficients: [ 0.46632096 -2.70815974]\n"
     ]
    }
   ],
   "source": [
    "# use scikit-learn's linear regression model and fit to our data\n",
    "model_two_x = linear_model.LinearRegression()\n",
    "model_two_x.fit(data_two_x[['x1', 'x2']], data_two_x['y'])\n",
    "\n",
    "# Print out the parameters for the best fit plane\n",
    "print_model_fit(model_two_x)"
   ]
  },
  {
   "cell_type": "code",
   "execution_count": 409,
   "metadata": {},
   "outputs": [],
   "source": [
    "## Now create a function that can plot in 3D\n",
    "def plot_3d(model, x1, x2, y):\n",
    "    # 3D Plot\n",
    "    # create the figure\n",
    "    fig = matplotlib.pyplot.figure(1)\n",
    "    fig.suptitle('3D Data and Best-Fit Plane')\n",
    "    \n",
    "    # get the current axes, and tell them to do a 3D projection\n",
    "    axes = fig.gca(projection='3d')\n",
    "    axes.set_xlabel('x1')\n",
    "    axes.set_ylabel('x2')\n",
    "    axes.set_zlabel('y')\n",
    "    \n",
    "    \n",
    "    # put the generated points on the graph\n",
    "    axes.scatter(x1, x2, y)\n",
    "\n",
    "    # predict for input points across the graph to find the best-fit plane\n",
    "    # and arrange them into a grid for matplotlib\n",
    "    X1 = X2 = numpy.arange(MIN_X, MAX_X, 0.05)\n",
    "    X1, X2 = numpy.meshgrid(X1, X2)\n",
    "    Y = numpy.array(model.predict(list(zip(X1.flatten(), X2.flatten())))).reshape(X1.shape)\n",
    "    \n",
    "    Y_true=numpy.array(x1_coeff*X1+x2_coeff*X2+inter).reshape(X1.shape)\n",
    "\n",
    "    # put the predicted plane on the graph\n",
    "    axes.plot_surface(X1, X2, Y, alpha=0.1, color=[1,0,0])\n",
    "    axes.plot_surface(X1, X2, Y_true, alpha=0.1, color=[0,0,1])\n",
    "\n",
    "    # show the plots\n",
    "    matplotlib.pyplot.show()"
   ]
  },
  {
   "cell_type": "code",
   "execution_count": 410,
   "metadata": {},
   "outputs": [
    {
     "data": {
      "image/png": "[encoded data removed]",
      "text/plain": [
       "<Figure size 432x288 with 1 Axes>"
      ]
     },
     "metadata": {
      "needs_background": "light"
     },
     "output_type": "display_data"
    }
   ],
   "source": [
    "# Now let's use the function\n",
    "plot_3d(model_two_x, x1_two_x, x2_two_x, y_two_x)"
   ]
  },
  {
   "cell_type": "code",
   "execution_count": 411,
   "metadata": {},
   "outputs": [
    {
     "data": {
      "text/plain": [
       "47.756496153366655"
      ]
     },
     "execution_count": 411,
     "metadata": {},
     "output_type": "execute_result"
    }
   ],
   "source": [
    "def L2_metric_two(model, data):\n",
    "    predictions = [model.predict([[i,j]])[0] for i, j in zip(data['x1'],data['x2'])]\n",
    "    sq_diff = [(data['y'][i]-predictions[i])**2 for i in range(len(predictions))]\n",
    "    return(sum(sq_diff))\n",
    "\n",
    "L2_metric_two(model_two_x, data_two_x)"
   ]
  },
  {
   "cell_type": "markdown",
   "metadata": {},
   "source": [
    "# Exercise Option #2 - Standard Difficulty\n",
    "\n",
    "Now, answer the following questions about [Fake Dataset 2](#Fake-Dataset-2---Two-x-Values):\n",
    "1. Take a look at the output of the `print_model_fit()` function for this above dataset. What output did you expect to see printed if the linear regression code was working, and why?\n",
    "1. What did you expect to see on the graph if the linear regression code was working, and why?\n",
    "1. Pick some lines of code that you could change to continue testing that the linear regression worked properly. What lines did you choose and how did you change them? How did the output change, and why does that tell you that the code is working correctly?\n",
    "1. Explain any differences you noticed between working with dataset 1 and dataset 2."
   ]
  },
  {
   "cell_type": "markdown",
   "metadata": {},
   "source": [
    "1. Again, one would expect an output similar to `Intercept: -2 Coefficients: [0.5, -2.7]` because these are the original values used to generate the data.\n",
    "1. Ideally, one would see a 3d graph with x1 and x2 as the domain and y as the range with points plotted according to the data set. One would then expect to see a transparent plane of best fit going through the points, as the plot_3d function plots a surface of the models predictions over a mesh of points.\n",
    "1. I did basically the same things as I did in the previous exercise (i.e. make initial coefficients random, plot the surface with the underlying coefficients, and add an output for the L2 metric).\n",
    "1. Dataset 2 is inherently more complicated because there are two independent variables to deal with; it was somewhat complicated to figure out how exactly everything works when moving up a dimension. \n",
    "\n"
   ]
  },
  {
   "cell_type": "markdown",
   "metadata": {},
   "source": [
    "### Fake Dataset 3 - Quadratic\n",
    "\n",
    "The new equation we'll try to model is $y = 0.7x^2 - 0.4x + 1.5$.\n",
    "\n",
    "\n",
    "This dataset still just has one input, so the code is very similar to our first one. However, now the generating function is quadratic, so this one will be trickier to deal with.\n",
    "\n",
    "Again, we'll go through dataset generation, training, and visualization."
   ]
  },
  {
   "cell_type": "code",
   "execution_count": 412,
   "metadata": {},
   "outputs": [],
   "source": [
    "# randomly pick numbers for x\n",
    "x_quadratic = numpy.random.uniform(low=MIN_X, high=MAX_X, size=(NUM_INPUTS, 1))\n",
    "\n",
    "data_quadratic = pd.DataFrame(data=x_quadratic, columns=['x'])"
   ]
  },
  {
   "cell_type": "code",
   "execution_count": 413,
   "metadata": {},
   "outputs": [],
   "source": [
    "# Let's create some noise to make our data a little bit more spread out.\n",
    "# generate some normally distributed noise\n",
    "noise_quadratic = numpy.random.normal(size=NUM_INPUTS)"
   ]
  },
  {
   "cell_type": "code",
   "execution_count": 414,
   "metadata": {},
   "outputs": [],
   "source": [
    "# Let's generate the y values\n",
    "# Our equation:\n",
    "# y = 0.7x^2 - 0.4x + 1.5\n",
    "data_quadratic['y'] = 0.7 * data_quadratic['x'] * data_quadratic['x'] - 0.4 * data_quadratic['x'] + 1.5 + noise_quadratic"
   ]
  },
  {
   "cell_type": "code",
   "execution_count": 415,
   "metadata": {},
   "outputs": [
    {
     "name": "stdout",
     "output_type": "stream",
     "text": [
      "Intercept: [18.32721747]  Coefficients: [[-1.01052375]]\n"
     ]
    },
    {
     "data": {
      "image/png": "[encoded data removed]",
      "text/plain": [
       "<Figure size 432x288 with 1 Axes>"
      ]
     },
     "metadata": {
      "needs_background": "light"
     },
     "output_type": "display_data"
    }
   ],
   "source": [
    "# get a 1D array of the input data\n",
    "x_quadratic = data_quadratic['x'].values.reshape(-1, 1)\n",
    "y_quadratic = data_quadratic['y'].values.reshape(-1, 1)\n",
    "\n",
    "# Let's try use scikit-learn's linear regression model and fit to our data\n",
    "model_quadratic = linear_model.LinearRegression()\n",
    "model_quadratic.fit(x_quadratic, y_quadratic)\n",
    "\n",
    "# show results\n",
    "print_model_fit(model_quadratic)\n",
    "plot_best_fit_line(model_quadratic, x_quadratic, y_quadratic, False, [\"Linear Regression\"])"
   ]
  },
  {
   "cell_type": "markdown",
   "metadata": {},
   "source": [
    "# Exercise Option #3 - Advanced Difficulty\n",
    "\n",
    "First, look over and understand the data for [Fake Dataset 3](#Fake-Dataset-3---Quadratic).\n",
    "\n",
    "There are some issues here. Clearly the linear model that we have isn't working great.\n",
    "\n",
    "Your challenge is to write some new code that will better fit a linear model to this data. There are a couple different ways to do this, but all of them will involve some new code. If you have ideas but just aren't sure how to translate them into code, please ask for help!"
   ]
  },
  {
   "cell_type": "code",
   "execution_count": 416,
   "metadata": {},
   "outputs": [
    {
     "data": {
      "text/plain": [
       "LinearRegression()"
      ]
     },
     "execution_count": 416,
     "metadata": {},
     "output_type": "execute_result"
    }
   ],
   "source": [
    "#Defining some functions needed for quadratic regression calculation\n",
    "def x_sum(n):\n",
    "    return(sum([x**n for x in x_quadratic])[0])\n",
    "\n",
    "def xy_sum(n):\n",
    "    return(sum([x**n * y for x,y in zip(x_quadratic,y_quadratic)])[0])\n",
    "\n",
    "#Coefficient and dependent variable arrays\n",
    "coeff=numpy.array([[x_sum(4-i-j) for i in range(3)] for j in range(3)])\n",
    "dependent=numpy.array([xy_sum(2-i) for i in range(3)])\n",
    "\n",
    "#Solve for independent variables\n",
    "[A,B,C]=numpy.linalg.solve(coeff,dependent)\n",
    "\n",
    "#Midpoint of quadratic, used to split data into upper and lower portions\n",
    "midpoint=-B/(2*A)\n",
    "\n",
    "upper_x_quadratic=[x for x in x_quadratic if x>=midpoint]\n",
    "upper_y_quadratic=[y for (x,y) in zip(x_quadratic,y_quadratic) if x>=midpoint]\n",
    "\n",
    "upper_model_quadratic = linear_model.LinearRegression()\n",
    "upper_model_quadratic.fit(upper_x_quadratic, upper_y_quadratic)\n",
    "\n",
    "lower_x_quadratic=[x for x in x_quadratic if x<midpoint]\n",
    "lower_y_quadratic=[y for (x,y) in zip(x_quadratic,y_quadratic) if x<midpoint]\n",
    "\n",
    "lower_model_quadratic = linear_model.LinearRegression()\n",
    "lower_model_quadratic.fit(lower_x_quadratic, lower_y_quadratic)"
   ]
  },
  {
   "cell_type": "code",
   "execution_count": 417,
   "metadata": {},
   "outputs": [
    {
     "data": {
      "image/png": "[encoded data removed]",
      "text/plain": [
       "<Figure size 432x288 with 1 Axes>"
      ]
     },
     "metadata": {
      "needs_background": "light"
     },
     "output_type": "display_data"
    }
   ],
   "source": [
    "def plot_quadratic_model(lines, upper_model, lower_model, x, y, function):\n",
    "    # create the figure\n",
    "    fig = matplotlib.pyplot.figure(1)\n",
    "    fig.suptitle('Data and Best-Fit')\n",
    "    matplotlib.pyplot.xlabel('x values')\n",
    "    matplotlib.pyplot.ylabel('y values')\n",
    "    matplotlib.pyplot.ylim(-10, 90)\n",
    "\n",
    "    # put the generated dataset points on the graph\n",
    "    matplotlib.pyplot.scatter(x, y)\n",
    "    \n",
    "    # Now we actually want to plot the best-fit line.\n",
    "    # To simulate that, we'll simply generate all the\n",
    "    # inputs on the graph and plot that.\n",
    "    # predict for inputs along the graph to find the best-fit line\n",
    "    X = numpy.linspace(MIN_X, MAX_X) # generates all the possible values of x\n",
    "    if lines:\n",
    "        Y1 = upper_model.predict(list(zip(X)))\n",
    "        Y2 = lower_model.predict(list(zip(X)))\n",
    "\n",
    "        matplotlib.pyplot.plot(X, Y1)\n",
    "        matplotlib.pyplot.plot(X, Y2)\n",
    "    \n",
    "    if function:\n",
    "        matplotlib.pyplot.plot(X, function(X))\n",
    "        \n",
    "plot_quadratic_model(True, upper_model_quadratic, lower_model_quadratic, x_quadratic, y_quadratic, lambda x: A*x**2+B*x+C)"
   ]
  },
  {
   "cell_type": "markdown",
   "metadata": {},
   "source": [
    "The graph above displays the two linear fits, as well as the quadratic fit."
   ]
  },
  {
   "cell_type": "code",
   "execution_count": 418,
   "metadata": {
    "scrolled": false
   },
   "outputs": [
    {
     "data": {
      "image/png": "[encoded data removed]",
      "text/plain": [
       "<Figure size 432x288 with 1 Axes>"
      ]
     },
     "metadata": {
      "needs_background": "light"
     },
     "output_type": "display_data"
    }
   ],
   "source": [
    "plot_quadratic_model(False, 0, 0, x_quadratic, y_quadratic, lambda x: A*x**2+B*x+C)"
   ]
  },
  {
   "cell_type": "markdown",
   "metadata": {},
   "source": [
    "This is just the quadratic fit."
   ]
  },
  {
   "cell_type": "markdown",
   "metadata": {},
   "source": [
    "# Exercise Option #4 - Advanced Difficulty\n",
    "\n",
    "Try adding some [regularization](https://jennselby.github.io/MachineLearningCourseNotes/#regularization-ridge-lasso-and-elastic-net) to your linear regression model. This will get you some practice in using the sci-kit learn documentation to find new functions and figure out how to use them.\n",
    "\n"
   ]
  },
  {
   "cell_type": "code",
   "execution_count": 419,
   "metadata": {},
   "outputs": [
    {
     "data": {
      "text/plain": [
       "array([48.08572105])"
      ]
     },
     "execution_count": 419,
     "metadata": {},
     "output_type": "execute_result"
    },
    {
     "data": {
      "image/png": "[encoded data removed]",
      "text/plain": [
       "<Figure size 432x288 with 1 Axes>"
      ]
     },
     "metadata": {
      "needs_background": "light"
     },
     "output_type": "display_data"
    }
   ],
   "source": [
    "#Ridge Regularization\n",
    "model_reg1_x = linear_model.Ridge()\n",
    "model_reg1_x.fit(X=x_one_x, y=y_one_x)\n",
    "\n",
    "plot_best_fit_line(model_reg1_x, x_one_x, y_one_x, \n",
    "                   lambda x:model_one_x.predict(x.reshape(-1,1)), [\"Ridge Regression\", \"Linear Regression\"])\n",
    "\n",
    "L2_metric_one(model_reg1_x, data_one_x)"
   ]
  },
  {
   "cell_type": "code",
   "execution_count": 420,
   "metadata": {},
   "outputs": [
    {
     "data": {
      "text/plain": [
       "49.601330008384274"
      ]
     },
     "execution_count": 420,
     "metadata": {},
     "output_type": "execute_result"
    },
    {
     "data": {
      "image/png": "[encoded data removed]",
      "text/plain": [
       "<Figure size 432x288 with 1 Axes>"
      ]
     },
     "metadata": {
      "needs_background": "light"
     },
     "output_type": "display_data"
    }
   ],
   "source": [
    "#Lasso Regularization\n",
    "model_reg2_x = linear_model.Lasso()\n",
    "model_reg2_x.fit(X=x_one_x, y=y_one_x)\n",
    "\n",
    "plot_best_fit_line(model_reg2_x, x_one_x, y_one_x, \n",
    "                   lambda x:model_one_x.predict(x.reshape(-1,1)), [\"LASSO Regression\", \"Linear Regression\"])\n",
    "\n",
    "L2_metric_one(model_reg2_x, data_one_x)"
   ]
  },
  {
   "cell_type": "markdown",
   "metadata": {},
   "source": [
    "Both of the regularized models end up extremely similar to the unregularized linear model, likely due to the relative simplicity of the data we are using to train the models. However, they are still both producing different results. In the case of the LASSO regularization, this is apparent from the graph, while for the Ridge regularization this is apparent from comparing the L2 metrics (the Ridge regularization's is slightly higher).\n",
    "\n",
    "Overall, it is not that surprising that the models are so similar to the linear model in the end. Both of these reguralization methods punish large weights, however our model only has one weight (intercept is not a weight), which has a small value compared to the noise and variation in the data set (at least when it is around 0.3). As such, the punishments introduced by both regularization methods do not become very apparent, so the standard L2 error is the dominant part. This is especially the case with Ridge regularization, as our weight has absolute value less than 1 meaning that squaring it actually decreases its value further. \n",
    "\n",
    "It is good to note that both of these models have higher L2 errors than the linear model. This is what we would expect, as pure linear regresssion only optimizes the L2 error; as such, it should have the lowest possible L2 error out of all linear models. Both regularization methods used here sacrifice some of the L2 error optimization to reduce overfitting and large coefficients, so it is expected that they do worse in this regard."
   ]
  }
 ],
 "metadata": {
  "kernelspec": {
   "display_name": "Python 3",
   "language": "python",
   "name": "python3"
  },
  "language_info": {
   "codemirror_mode": {
    "name": "ipython",
    "version": 3
   },
   "file_extension": ".py",
   "mimetype": "text/x-python",
   "name": "python",
   "nbconvert_exporter": "python",
   "pygments_lexer": "ipython3",
   "version": "3.7.3"
  }
 },
 "nbformat": 4,
 "nbformat_minor": 2
}
